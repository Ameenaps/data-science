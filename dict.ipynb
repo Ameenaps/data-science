{
 "cells": [
  {
   "cell_type": "code",
   "execution_count": 2,
   "id": "5583c4dc-cd2d-488e-a552-e56d9378f6c8",
   "metadata": {},
   "outputs": [
    {
     "name": "stdout",
     "output_type": "stream",
     "text": [
      "{'a': 1, 'b': 2, 'c': 3}\n"
     ]
    }
   ],
   "source": [
    "t=(('a',1),('b',2),('c',3))\n",
    "d=dict(t)\n",
    "print(d)"
   ]
  },
  {
   "cell_type": "code",
   "execution_count": 4,
   "id": "5b442490-f58b-4d8a-82db-71b6bbe0de48",
   "metadata": {},
   "outputs": [
    {
     "name": "stdout",
     "output_type": "stream",
     "text": [
      "{1: 'apple', 2: 'orange', 3: 'grapes', 4: 'grapes', 5: 'banana', 6: 'papaya'}\n"
     ]
    }
   ],
   "source": [
    "d1={1:\"apple\",2:\"orange\",3:\"grapes\"}\n",
    "d2={4:\"grapes\",5:\"banana\",6:\"papaya\"}\n",
    "d=d1 | d2\n",
    "print(d)"
   ]
  },
  {
   "cell_type": "code",
   "execution_count": null,
   "id": "24d7bc48-ac3b-4cbf-8bb5-b7b12e00d5eb",
   "metadata": {},
   "outputs": [],
   "source": []
  }
 ],
 "metadata": {
  "kernelspec": {
   "display_name": "Python 3 (ipykernel)",
   "language": "python",
   "name": "python3"
  },
  "language_info": {
   "codemirror_mode": {
    "name": "ipython",
    "version": 3
   },
   "file_extension": ".py",
   "mimetype": "text/x-python",
   "name": "python",
   "nbconvert_exporter": "python",
   "pygments_lexer": "ipython3",
   "version": "3.10.12"
  }
 },
 "nbformat": 4,
 "nbformat_minor": 5
}
