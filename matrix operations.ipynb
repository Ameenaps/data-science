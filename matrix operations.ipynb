{
 "cells": [
  {
   "cell_type": "code",
   "execution_count": 6,
   "id": "76325779",
   "metadata": {},
   "outputs": [
    {
     "name": "stdout",
     "output_type": "stream",
     "text": [
      "matrix addition: \n",
      " [[7 7]\n",
      " [7 7]]\n",
      "matrix subtraction: \n",
      " [[-5 -3]\n",
      " [-1  1]]\n",
      "matrix multiplication:\n",
      " [[ 6 10]\n",
      " [12 12]]\n",
      "matrix division:\n",
      " [[0.16666667 0.4       ]\n",
      " [0.75       1.33333333]]\n",
      "dot product:\n",
      " [[14 11]\n",
      " [34 27]]\n",
      "Transpose of A:\n",
      " [[1 3]\n",
      " [2 4]]\n",
      "Transpose of B:\n",
      " [[6 4]\n",
      " [5 3]]\n"
     ]
    }
   ],
   "source": [
    "import numpy as np\n",
    "A=np.array([[1,2],[3,4]])\n",
    "B=np.array([[6,5],[4,3]])\n",
    "add=A+B\n",
    "print(\"matrix addition: \\n\",add)\n",
    "sub=A-B\n",
    "print(\"matrix subtraction: \\n\",sub)\n",
    "mul=A*B\n",
    "print(\"matrix multiplication:\\n\",mul)\n",
    "div=A/B\n",
    "print(\"matrix division:\\n\",div)\n",
    "dot_product=np.dot(A,B)\n",
    "print(\"dot product:\\n\",dot_product)\n",
    "transpose_A=A.T\n",
    "print(\"Transpose of A:\\n\",transpose_A)\n",
    "transpose_B=B.T\n",
    "print(\"Transpose of B:\\n\",transpose_B)"
   ]
  },
  {
   "cell_type": "code",
   "execution_count": null,
   "id": "c8228046",
   "metadata": {},
   "outputs": [],
   "source": []
  }
 ],
 "metadata": {
  "kernelspec": {
   "display_name": "Python 3 (ipykernel)",
   "language": "python",
   "name": "python3"
  },
  "language_info": {
   "codemirror_mode": {
    "name": "ipython",
    "version": 3
   },
   "file_extension": ".py",
   "mimetype": "text/x-python",
   "name": "python",
   "nbconvert_exporter": "python",
   "pygments_lexer": "ipython3",
   "version": "3.11.4"
  }
 },
 "nbformat": 4,
 "nbformat_minor": 5
}
