{
 "cells": [
  {
   "cell_type": "code",
   "execution_count": 4,
   "id": "313f5a9d-ea3f-4a4d-8f95-5bf3eacf029a",
   "metadata": {},
   "outputs": [
    {
     "name": "stdout",
     "output_type": "stream",
     "text": [
      "list after duplication [2, 6, 7, 9]\n"
     ]
    }
   ],
   "source": [
    "l=[6,2,9,7,6]\n",
    "num=list(set(l))\n",
    "num.sort()\n",
    "print(\"list after duplication\",num)"
   ]
  },
  {
   "cell_type": "code",
   "execution_count": null,
   "id": "7241dac4-22a2-4028-a9c3-8123c5887209",
   "metadata": {},
   "outputs": [],
   "source": []
  }
 ],
 "metadata": {
  "kernelspec": {
   "display_name": "Python 3 (ipykernel)",
   "language": "python",
   "name": "python3"
  },
  "language_info": {
   "codemirror_mode": {
    "name": "ipython",
    "version": 3
   },
   "file_extension": ".py",
   "mimetype": "text/x-python",
   "name": "python",
   "nbconvert_exporter": "python",
   "pygments_lexer": "ipython3",
   "version": "3.11.9"
  }
 },
 "nbformat": 4,
 "nbformat_minor": 5
}
